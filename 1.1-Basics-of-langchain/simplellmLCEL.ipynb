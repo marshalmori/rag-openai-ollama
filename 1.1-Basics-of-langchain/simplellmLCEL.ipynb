{
 "cells": [
  {
   "cell_type": "markdown",
   "id": "5b179836",
   "metadata": {},
   "source": [
    "## Simple LLM LCEL"
   ]
  },
  {
   "cell_type": "markdown",
   "id": "c41ac675",
   "metadata": {},
   "source": [
    "Groq é uma empresa que desenvolve hardware especializado para acelerar aplicações de inteligência artificial (IA), especialmente aquelas que exigem baixa latência e alta velocidade, como modelos de linguagem e visão computacional. Seu principal produto é o GroqChip, um processador projetado para executar inferência de IA de forma extremamente rápida e eficiente.\n",
    "\n",
    "A principal vantagem da Groq está na velocidade de processamento determinística, ou seja, ela entrega resultados previsíveis e muito rápidos, ideal para aplicações em tempo real, como tradução simultânea, direção autônoma e serviços de IA conversacional. Além disso, o chip é altamente otimizado para modelos de IA já treinados, o que reduz o custo energético e melhora a eficiência.\n",
    "\n",
    "Outra vantagem é sua simplicidade de programação, com uma arquitetura linear que facilita o desenvolvimento e a integração com sistemas existentes. A Groq também permite o uso de ferramentas populares como TensorFlow e PyTorch, tornando a migração mais simples para empresas que já usam essas plataformas.\n",
    "\n",
    "Como desvantagem, a Groq ainda é uma tecnologia relativamente nova no mercado, com menor adoção em comparação com gigantes como NVIDIA. Isso pode significar menos suporte da comunidade e menor compatibilidade com algumas soluções específicas. Além disso, seu foco está na inferência, não no treinamento de modelos, o que limita seu uso em ambientes de desenvolvimento de IA mais completos."
   ]
  },
  {
   "cell_type": "markdown",
   "id": "92960e46",
   "metadata": {},
   "source": [
    "#### Significado do termo Inferência"
   ]
  },
  {
   "cell_type": "markdown",
   "id": "29140b67",
   "metadata": {},
   "source": [
    "Em inteligência artificial, inferência é o processo em que um modelo treinado é usado para fazer previsões ou tomar decisões com base em novos dados. Ou seja, depois que o modelo \"aprende\" durante a fase de treinamento, ele entra na fase de inferência, onde aplica esse conhecimento em situações reais.\n",
    "\n",
    "Na prática, imagine um modelo treinado para identificar gatos em imagens. Durante a inferência, você envia uma nova imagem (que o modelo nunca viu antes), e ele analisa essa imagem e responde: “Sim, isso é um gato” ou “Não, não é um gato”. O modelo não aprende mais nessa fase, apenas usa o que já aprendeu.\n",
    "\n",
    "Esse processo precisa ser rápido e eficiente, especialmente em aplicativos como carros autônomos, assistentes virtuais ou traduções em tempo real, onde cada milissegundo conta. É por isso que empresas como a Groq desenvolvem hardware otimizado: para acelerar justamente essa etapa de inferência.\n",
    "\n",
    "Resumindo: treinamento é onde o modelo aprende; inferência é onde ele mostra o que aprendeu ao fazer previsões em tempo real."
   ]
  },
  {
   "cell_type": "code",
   "execution_count": 4,
   "id": "1386d778",
   "metadata": {},
   "outputs": [
    {
     "data": {
      "text/plain": [
       "True"
      ]
     },
     "execution_count": 4,
     "metadata": {},
     "output_type": "execute_result"
    }
   ],
   "source": [
    "## Open AI API Key and Open Source models - Llama3, Gemma2, Mistral -- Groq\n",
    "\n",
    "import os\n",
    "from dotenv import load_dotenv\n",
    "load_dotenv()"
   ]
  },
  {
   "cell_type": "code",
   "execution_count": 10,
   "id": "8f218361",
   "metadata": {},
   "outputs": [],
   "source": [
    "import openai\n",
    "openai.api_key = os.getenv('OPENAI_API_KEY')"
   ]
  },
  {
   "cell_type": "code",
   "execution_count": 11,
   "id": "027f39c5",
   "metadata": {},
   "outputs": [],
   "source": [
    "groq_api_key = os.getenv('GROQ_API_KEY')"
   ]
  },
  {
   "cell_type": "code",
   "execution_count": null,
   "id": "614a5df9",
   "metadata": {},
   "outputs": [],
   "source": [
    "from langchain_openai import ChatOpenAI\n",
    "from langchain_groq import ChatGroq"
   ]
  },
  {
   "cell_type": "code",
   "execution_count": 14,
   "id": "f4b6fd23",
   "metadata": {},
   "outputs": [
    {
     "data": {
      "text/plain": [
       "ChatGroq(client=<groq.resources.chat.completions.Completions object at 0x7641b6b7ace0>, async_client=<groq.resources.chat.completions.AsyncCompletions object at 0x7641b6ba9180>, model_name='Gemma2-9b-it', model_kwargs={}, groq_api_key=SecretStr('**********'))"
      ]
     },
     "execution_count": 14,
     "metadata": {},
     "output_type": "execute_result"
    }
   ],
   "source": [
    "model = ChatGroq(model='Gemma2-9b-it', groq_api_key = groq_api_key)\n",
    "model"
   ]
  },
  {
   "cell_type": "code",
   "execution_count": 16,
   "id": "7fcb4e0b",
   "metadata": {},
   "outputs": [],
   "source": [
    "from langchain_core.messages import HumanMessage, SystemMessage\n",
    "\n",
    "messages = [\n",
    "    SystemMessage(content=\"Translate the following from English to Spanish\"),\n",
    "    HumanMessage(content=\"Hello How are you?\")\n",
    "]\n",
    "\n",
    "result = model.invoke(messages)\n"
   ]
  },
  {
   "cell_type": "code",
   "execution_count": 17,
   "id": "7b69a5e1",
   "metadata": {},
   "outputs": [
    {
     "data": {
      "text/plain": [
       "AIMessage(content='Here\\'s the translation of \"Hello, how are you?\" to Spanish:\\n\\n**Formal:**\\n\\n* **Hola, ¿cómo está?** (used when addressing someone you don\\'t know well or someone older than you)\\n\\n**Informal:**\\n\\n* **Hola, ¿cómo estás?** (used with friends, family, and people your own age)\\n\\n\\nLet me know if you have any other phrases you\\'d like translated!\\n', additional_kwargs={}, response_metadata={'token_usage': {'completion_tokens': 93, 'prompt_tokens': 21, 'total_tokens': 114, 'completion_time': 0.169090909, 'prompt_time': 0.002144385, 'queue_time': 0.15899489, 'total_time': 0.171235294}, 'model_name': 'Gemma2-9b-it', 'system_fingerprint': 'fp_10c08bf97d', 'finish_reason': 'stop', 'logprobs': None}, id='run--bf45fe0b-2636-41d0-86e9-caf134633cca-0', usage_metadata={'input_tokens': 21, 'output_tokens': 93, 'total_tokens': 114})"
      ]
     },
     "execution_count": 17,
     "metadata": {},
     "output_type": "execute_result"
    }
   ],
   "source": [
    "result"
   ]
  },
  {
   "cell_type": "code",
   "execution_count": 18,
   "id": "f4a5cf1c",
   "metadata": {},
   "outputs": [
    {
     "data": {
      "text/plain": [
       "'Here\\'s the translation of \"Hello, how are you?\" to Spanish:\\n\\n**Formal:**\\n\\n* **Hola, ¿cómo está?** (used when addressing someone you don\\'t know well or someone older than you)\\n\\n**Informal:**\\n\\n* **Hola, ¿cómo estás?** (used with friends, family, and people your own age)\\n\\n\\nLet me know if you have any other phrases you\\'d like translated!\\n'"
      ]
     },
     "execution_count": 18,
     "metadata": {},
     "output_type": "execute_result"
    }
   ],
   "source": [
    "from langchain_core.output_parsers import StrOutputParser\n",
    "\n",
    "parser = StrOutputParser()\n",
    "parser.invoke(result)"
   ]
  },
  {
   "cell_type": "code",
   "execution_count": 19,
   "id": "07882198",
   "metadata": {},
   "outputs": [
    {
     "data": {
      "text/plain": [
       "'Here are a few ways to say \"Hello, how are you?\" in Spanish:\\n\\n* **Hola, ¿cómo estás?** (informal, to one person)\\n* **Hola, ¿cómo está?** (formal, to one person)\\n* **Hola, ¿cómo están?** (formal, to multiple people)\\n\\n\\n Let me know if you\\'d like to learn other Spanish greetings! \\n'"
      ]
     },
     "execution_count": 19,
     "metadata": {},
     "output_type": "execute_result"
    }
   ],
   "source": [
    "### Using LCEL - chain the components\n",
    "\n",
    "chain = model | parser\n",
    "chain.invoke(messages)"
   ]
  },
  {
   "cell_type": "code",
   "execution_count": 22,
   "id": "4c515ad0",
   "metadata": {},
   "outputs": [],
   "source": [
    "### Prompt Templates\n",
    "from langchain_core.prompts import ChatPromptTemplate\n",
    "\n",
    "generic_templates = \"Translate the following into {language}:\"\n",
    "\n",
    "prompt = ChatPromptTemplate.from_messages(\n",
    "    [('system', generic_templates), ('user', '{text}')]\n",
    ")"
   ]
  },
  {
   "cell_type": "code",
   "execution_count": 23,
   "id": "3cfa96d1",
   "metadata": {},
   "outputs": [],
   "source": [
    "result = prompt.invoke({'language': 'Spanish', 'text': 'Hello'})"
   ]
  },
  {
   "cell_type": "code",
   "execution_count": 24,
   "id": "c14bdf2a",
   "metadata": {},
   "outputs": [
    {
     "data": {
      "text/plain": [
       "[SystemMessage(content='Translate the following into Spanish:', additional_kwargs={}, response_metadata={}),\n",
       " HumanMessage(content='Hello', additional_kwargs={}, response_metadata={})]"
      ]
     },
     "execution_count": 24,
     "metadata": {},
     "output_type": "execute_result"
    }
   ],
   "source": [
    "result.to_messages()"
   ]
  },
  {
   "cell_type": "code",
   "execution_count": 26,
   "id": "1a1afd1f",
   "metadata": {},
   "outputs": [
    {
     "data": {
      "text/plain": [
       "'Hola, buenos días. \\n'"
      ]
     },
     "execution_count": 26,
     "metadata": {},
     "output_type": "execute_result"
    }
   ],
   "source": [
    "chain = prompt | model | parser\n",
    "chain.invoke({'language': \"Spanish\", \"text\": \"Hello, goode morning.\"})"
   ]
  }
 ],
 "metadata": {
  "kernelspec": {
   "display_name": "Python 3",
   "language": "python",
   "name": "python3"
  },
  "language_info": {
   "codemirror_mode": {
    "name": "ipython",
    "version": 3
   },
   "file_extension": ".py",
   "mimetype": "text/x-python",
   "name": "python",
   "nbconvert_exporter": "python",
   "pygments_lexer": "ipython3",
   "version": "3.10.0"
  }
 },
 "nbformat": 4,
 "nbformat_minor": 5
}
