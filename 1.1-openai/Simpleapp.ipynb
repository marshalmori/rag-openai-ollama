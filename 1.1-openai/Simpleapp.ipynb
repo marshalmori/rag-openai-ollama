{
 "cells": [
  {
   "cell_type": "markdown",
   "id": "785ffc84",
   "metadata": {},
   "source": [
    "## Simple Gen AI APP Using Langchain"
   ]
  },
  {
   "cell_type": "code",
   "execution_count": 9,
   "id": "2156413d",
   "metadata": {},
   "outputs": [
    {
     "data": {
      "text/plain": [
       "True"
      ]
     },
     "execution_count": 9,
     "metadata": {},
     "output_type": "execute_result"
    }
   ],
   "source": [
    "import os\n",
    "from dotenv import load_dotenv\n",
    "load_dotenv()"
   ]
  },
  {
   "cell_type": "code",
   "execution_count": 10,
   "id": "b70fea91",
   "metadata": {},
   "outputs": [],
   "source": [
    "os.environ['OPENAI_API_KEY'] = os.getenv('OPENAI_API_KEY')\n",
    "## Langsmith Tracking\n",
    "os.environ['LANGCHAIN_API_KEY'] = os.getenv('LANGCHAIN_API_KEY')\n",
    "os.environ['LANGCHAIN_TRACING_V2'] = 'true'\n",
    "os.environ['LANGCHAIN_PROJECT'] = os.getenv('LANGCHAIN_PROJECT')"
   ]
  },
  {
   "cell_type": "markdown",
   "id": "bba5024d",
   "metadata": {},
   "source": [
    "#### 1 - Load Data - Neste caso um página web"
   ]
  },
  {
   "cell_type": "code",
   "execution_count": 11,
   "id": "1e8562fa",
   "metadata": {},
   "outputs": [],
   "source": [
    "## Data Ingestion -- From the website we need to scrape the data\n",
    "from langchain_community.document_loaders import WebBaseLoader\n"
   ]
  },
  {
   "cell_type": "code",
   "execution_count": 12,
   "id": "4564893e",
   "metadata": {},
   "outputs": [
    {
     "data": {
      "text/plain": [
       "<langchain_community.document_loaders.web_base.WebBaseLoader at 0x73fde2b95e70>"
      ]
     },
     "execution_count": 12,
     "metadata": {},
     "output_type": "execute_result"
    }
   ],
   "source": [
    "loader = WebBaseLoader('https://docs.smith.langchain.com/prompt_engineering/concepts')\n",
    "loader"
   ]
  },
  {
   "cell_type": "code",
   "execution_count": 13,
   "id": "95a658dc",
   "metadata": {},
   "outputs": [
    {
     "data": {
      "text/plain": [
       "[Document(metadata={'source': 'https://docs.smith.langchain.com/prompt_engineering/concepts', 'title': 'Concepts | 🦜️🛠️ LangSmith', 'description': 'Prompt engineering is one the core pillars of LangSmith.', 'language': 'en'}, page_content='\\n\\n\\n\\n\\nConcepts | 🦜️🛠️ LangSmith\\n\\n\\n\\n\\n\\n\\n\\n\\nSkip to main contentWe are growing and hiring for multiple roles for LangChain, LangGraph and LangSmith. Join our team!API ReferenceRESTPythonJS/TSSearchRegionUSEUGo to AppGet StartedObservabilityEvaluationPrompt EngineeringQuickstartsTutorialsOptimize a classifierHow-to GuidesCreate a promptRun the playground against a custom LangServe model serverRun the playground against an OpenAI-compliant model provider/proxyUpdate a promptManage prompts programmaticallyManaging Prompt SettingsPrompt TagsOpen a prompt from a traceLangChain HubPrompt CanvasInclude multimodal content in a promptHow to use multiple messages in the playgroundConceptual GuideDeployment (LangGraph Platform)AdministrationSelf-hostingPricingReferenceCloud architecture and scalabilityAuthz and AuthnAuthentication methodsdata_formatsEvaluationDataset transformationsRegions FAQsdk_referenceChangelogCloud architecture and scalabilityAuthz and AuthnAuthentication methodsdata_formatsEvaluationDataset transformationsRegions FAQsdk_referencePrompt EngineeringConceptual GuideOn this pageConcepts\\nPrompt engineering is one the core pillars of LangSmith.\\nWhile traditional software application are built by writing code, AI applications often involve a good amount of writing prompts.\\nWe aim to make this as easy possible by providing a set of tools designed to enable and facilitate prompt engineering.\\nWhy prompt engineering?\\u200b\\nA prompt sets the stage for the model, like an audience member at an improv show directing the actor\\'s next performance - it guides the model\\'s\\nbehavior without changing its underlying capabilities. Just as telling an actor to \"be a pirate\" determines how they act,\\na prompt provides instructions, examples, and context that shape how the model responds.\\nPrompt engineering is important because it allows you to change the way the model behaves.\\nWhile there are other ways to change the model\\'s behavior (like fine-tuning), prompt engineering is usually the simplest to get started with\\nand often provides the highest ROI.\\nWe often see that prompt engineering is multi-disciplinary.\\nSometimes the best prompt engineer is not the software engineer who is building the application, but rather the product manager\\nor another domain expert.\\nIt is important to have the proper tooling and infrastructure to support this cross-disciplinary building.\\nPrompts vs Prompt Templates\\u200b\\nAlthough we often use these terms interchangably, it is important to understand the difference between \"prompts\" and \"prompt templates\".\\nPrompts refer to the messages that are passed into the language model.\\nPrompt Templates refer to a way of formatting information to get that prompt to hold the information that you want. Prompt templates\\ncan include variables for few shot examples, outside context, or any other external data that is needed in your prompt.\\n\\nPrompts in LangSmith\\u200b\\nYou can store and version prompts templates in LangSmith.\\nThere are few key aspects of a prompt template to understand.\\nChat vs Completion\\u200b\\nThere are two different types of prompts: chat style prompts and completion style prompts.\\nChat style prompts are a list of messages. This is the prompting style supported by most model APIs these days, and so this should generally be preferred.\\nCompletion style prompts are just a string. This is an older style of prompting, and so mostly exists for legacy reasons.\\nF-string vs mustache\\u200b\\nYou can format your prompt with input variables using either f-string or mustache format. Here is an example prompt\\nwith f-string format:\\nHello, {name}!\\nAnd here is one with mustache:\\nHello, {{name}}!\\nMustache formatMustache format gives your more flexbility around conditional variables, loops, and nested keys.\\nRead the documentation\\nTools\\u200b\\nTools are interfaces the LLM can use to interact with the outside world. Tools consist of a name, description,\\nand JSON schema of arguments used to call the tool.\\nStructured Output\\u200b\\nStructured output is a feature of most state of the art LLMs, wherein instead of producing raw text as output they\\nstick to a specified schema. This may or may not use Tools under the hood.\\nStructured Output vs ToolsStructured outputs are similar to tools, but different in a few key ways. With tools, the LLM choose which tool to call (or may choose not to call any); with structured output, the LLM always responds in this format. With tools, the LLM may select multiple tools; with structured output, only one response is generate.\\nModel\\u200b\\nOptionally, you can store a model configuration alongside a prompt template. This includes the name of the model and any other parameters (temperature, etc).\\nPrompt Versioning\\u200b\\nVerisioning is a key part of iterating and collaborating on your different prompts.\\nCommits\\u200b\\nEvery saved update to a prompt creates a new commit. You can view previous commits, making it easy to review earlier prompt versions or revert to a previous state if needed. In the SDK, you can access a specific commit of a prompt by specifying the commit hash along with the prompt name (e.g. prompt_name:commit_hash).\\nIn the UI, you can compare a commit with its previous version by toggling the \"diff\" button in the top-right corner of the Commits tab.\\n\\nTags\\u200b\\nYou may want to tag prompt commits with a human-readable tag so that you can refer to it even as new commits are added. Common use cases include tagging a prompt with dev or prod tags. This allows you to track which versions of prompts are used where.\\nPrompt Playground\\u200b\\nThe prompt playground makes the process of iterating and testing your prompts seamless. You can enter the playground from the sidebar or directly from a saved prompt.\\nIn the playground you can:\\n\\nChange the model being used\\nChange prompt template being used\\nChange the output schema\\nChange the tools available\\nEnter the input variables to run through the prompt template\\nRun the prompt through the model\\nObserve the outputs\\n\\nTesting multiple prompts\\u200b\\nYou can add more prompts to your playground to easily compare outputs and decide which version is better:\\n\\nTesting over a dataset\\u200b\\nTo test over a dataset, you simply select the dataset from the top right and press Start. You can modify whether the results\\nare streamed back as well as how many repitions there are in the test.\\n\\nYou can click on the \"View Experiment\" button to dive deeper into the results of the test.Was this page helpful?You can leave detailed feedback on GitHub.PreviousHow to use multiple messages in the playgroundNextDeployment (LangGraph Platform)Why prompt engineering?Prompts vs Prompt TemplatesPrompts in LangSmithChat vs CompletionF-string vs mustacheToolsStructured OutputModelPrompt VersioningCommitsTagsPrompt PlaygroundTesting multiple promptsTesting over a datasetCommunityTwitterGitHubDocs CodeLangSmith SDKPythonJS/TSMoreHomepageBlogLangChain Python DocsLangChain JS/TS DocsCopyright © 2025 LangChain, Inc.\\n\\n')]"
      ]
     },
     "execution_count": 13,
     "metadata": {},
     "output_type": "execute_result"
    }
   ],
   "source": [
    "docs = loader.load()\n",
    "docs"
   ]
  },
  {
   "cell_type": "markdown",
   "id": "e51c7af1",
   "metadata": {},
   "source": [
    "#### Split - (Transforma os dados em chunks)"
   ]
  },
  {
   "cell_type": "code",
   "execution_count": 14,
   "id": "a210595d",
   "metadata": {},
   "outputs": [
    {
     "data": {
      "text/plain": [
       "[Document(metadata={'source': 'https://docs.smith.langchain.com/prompt_engineering/concepts', 'title': 'Concepts | 🦜️🛠️ LangSmith', 'description': 'Prompt engineering is one the core pillars of LangSmith.', 'language': 'en'}, page_content='Concepts | 🦜️🛠️ LangSmith'),\n",
       " Document(metadata={'source': 'https://docs.smith.langchain.com/prompt_engineering/concepts', 'title': 'Concepts | 🦜️🛠️ LangSmith', 'description': 'Prompt engineering is one the core pillars of LangSmith.', 'language': 'en'}, page_content='Skip to main contentWe are growing and hiring for multiple roles for LangChain, LangGraph and LangSmith. Join our team!API ReferenceRESTPythonJS/TSSearchRegionUSEUGo to AppGet StartedObservabilityEvaluationPrompt EngineeringQuickstartsTutorialsOptimize a classifierHow-to GuidesCreate a promptRun the playground against a custom LangServe model serverRun the playground against an OpenAI-compliant model provider/proxyUpdate a promptManage prompts programmaticallyManaging Prompt SettingsPrompt TagsOpen a prompt from a traceLangChain HubPrompt CanvasInclude multimodal content in a promptHow to use multiple messages in the playgroundConceptual GuideDeployment (LangGraph Platform)AdministrationSelf-hostingPricingReferenceCloud architecture and scalabilityAuthz and AuthnAuthentication methodsdata_formatsEvaluationDataset transformationsRegions FAQsdk_referenceChangelogCloud architecture and scalabilityAuthz and AuthnAuthentication methodsdata_formatsEvaluationDataset transformationsRegions'),\n",
       " Document(metadata={'source': 'https://docs.smith.langchain.com/prompt_engineering/concepts', 'title': 'Concepts | 🦜️🛠️ LangSmith', 'description': 'Prompt engineering is one the core pillars of LangSmith.', 'language': 'en'}, page_content='transformationsRegions FAQsdk_referenceChangelogCloud architecture and scalabilityAuthz and AuthnAuthentication methodsdata_formatsEvaluationDataset transformationsRegions FAQsdk_referencePrompt EngineeringConceptual GuideOn this pageConcepts'),\n",
       " Document(metadata={'source': 'https://docs.smith.langchain.com/prompt_engineering/concepts', 'title': 'Concepts | 🦜️🛠️ LangSmith', 'description': 'Prompt engineering is one the core pillars of LangSmith.', 'language': 'en'}, page_content='Prompt engineering is one the core pillars of LangSmith.\\nWhile traditional software application are built by writing code, AI applications often involve a good amount of writing prompts.\\nWe aim to make this as easy possible by providing a set of tools designed to enable and facilitate prompt engineering.\\nWhy prompt engineering?\\u200b\\nA prompt sets the stage for the model, like an audience member at an improv show directing the actor\\'s next performance - it guides the model\\'s\\nbehavior without changing its underlying capabilities. Just as telling an actor to \"be a pirate\" determines how they act,\\na prompt provides instructions, examples, and context that shape how the model responds.\\nPrompt engineering is important because it allows you to change the way the model behaves.\\nWhile there are other ways to change the model\\'s behavior (like fine-tuning), prompt engineering is usually the simplest to get started with\\nand often provides the highest ROI.'),\n",
       " Document(metadata={'source': 'https://docs.smith.langchain.com/prompt_engineering/concepts', 'title': 'Concepts | 🦜️🛠️ LangSmith', 'description': 'Prompt engineering is one the core pillars of LangSmith.', 'language': 'en'}, page_content='While there are other ways to change the model\\'s behavior (like fine-tuning), prompt engineering is usually the simplest to get started with\\nand often provides the highest ROI.\\nWe often see that prompt engineering is multi-disciplinary.\\nSometimes the best prompt engineer is not the software engineer who is building the application, but rather the product manager\\nor another domain expert.\\nIt is important to have the proper tooling and infrastructure to support this cross-disciplinary building.\\nPrompts vs Prompt Templates\\u200b\\nAlthough we often use these terms interchangably, it is important to understand the difference between \"prompts\" and \"prompt templates\".\\nPrompts refer to the messages that are passed into the language model.\\nPrompt Templates refer to a way of formatting information to get that prompt to hold the information that you want. Prompt templates\\ncan include variables for few shot examples, outside context, or any other external data that is needed in your prompt.'),\n",
       " Document(metadata={'source': 'https://docs.smith.langchain.com/prompt_engineering/concepts', 'title': 'Concepts | 🦜️🛠️ LangSmith', 'description': 'Prompt engineering is one the core pillars of LangSmith.', 'language': 'en'}, page_content='Prompts in LangSmith\\u200b\\nYou can store and version prompts templates in LangSmith.\\nThere are few key aspects of a prompt template to understand.\\nChat vs Completion\\u200b\\nThere are two different types of prompts: chat style prompts and completion style prompts.\\nChat style prompts are a list of messages. This is the prompting style supported by most model APIs these days, and so this should generally be preferred.\\nCompletion style prompts are just a string. This is an older style of prompting, and so mostly exists for legacy reasons.\\nF-string vs mustache\\u200b\\nYou can format your prompt with input variables using either f-string or mustache format. Here is an example prompt\\nwith f-string format:\\nHello, {name}!\\nAnd here is one with mustache:\\nHello, {{name}}!\\nMustache formatMustache format gives your more flexbility around conditional variables, loops, and nested keys.\\nRead the documentation\\nTools\\u200b'),\n",
       " Document(metadata={'source': 'https://docs.smith.langchain.com/prompt_engineering/concepts', 'title': 'Concepts | 🦜️🛠️ LangSmith', 'description': 'Prompt engineering is one the core pillars of LangSmith.', 'language': 'en'}, page_content='And here is one with mustache:\\nHello, {{name}}!\\nMustache formatMustache format gives your more flexbility around conditional variables, loops, and nested keys.\\nRead the documentation\\nTools\\u200b\\nTools are interfaces the LLM can use to interact with the outside world. Tools consist of a name, description,\\nand JSON schema of arguments used to call the tool.\\nStructured Output\\u200b\\nStructured output is a feature of most state of the art LLMs, wherein instead of producing raw text as output they\\nstick to a specified schema. This may or may not use Tools under the hood.\\nStructured Output vs ToolsStructured outputs are similar to tools, but different in a few key ways. With tools, the LLM choose which tool to call (or may choose not to call any); with structured output, the LLM always responds in this format. With tools, the LLM may select multiple tools; with structured output, only one response is generate.\\nModel\\u200b'),\n",
       " Document(metadata={'source': 'https://docs.smith.langchain.com/prompt_engineering/concepts', 'title': 'Concepts | 🦜️🛠️ LangSmith', 'description': 'Prompt engineering is one the core pillars of LangSmith.', 'language': 'en'}, page_content='Model\\u200b\\nOptionally, you can store a model configuration alongside a prompt template. This includes the name of the model and any other parameters (temperature, etc).\\nPrompt Versioning\\u200b\\nVerisioning is a key part of iterating and collaborating on your different prompts.\\nCommits\\u200b\\nEvery saved update to a prompt creates a new commit. You can view previous commits, making it easy to review earlier prompt versions or revert to a previous state if needed. In the SDK, you can access a specific commit of a prompt by specifying the commit hash along with the prompt name (e.g. prompt_name:commit_hash).\\nIn the UI, you can compare a commit with its previous version by toggling the \"diff\" button in the top-right corner of the Commits tab.'),\n",
       " Document(metadata={'source': 'https://docs.smith.langchain.com/prompt_engineering/concepts', 'title': 'Concepts | 🦜️🛠️ LangSmith', 'description': 'Prompt engineering is one the core pillars of LangSmith.', 'language': 'en'}, page_content='Tags\\u200b\\nYou may want to tag prompt commits with a human-readable tag so that you can refer to it even as new commits are added. Common use cases include tagging a prompt with dev or prod tags. This allows you to track which versions of prompts are used where.\\nPrompt Playground\\u200b\\nThe prompt playground makes the process of iterating and testing your prompts seamless. You can enter the playground from the sidebar or directly from a saved prompt.\\nIn the playground you can:\\n\\nChange the model being used\\nChange prompt template being used\\nChange the output schema\\nChange the tools available\\nEnter the input variables to run through the prompt template\\nRun the prompt through the model\\nObserve the outputs\\n\\nTesting multiple prompts\\u200b\\nYou can add more prompts to your playground to easily compare outputs and decide which version is better:'),\n",
       " Document(metadata={'source': 'https://docs.smith.langchain.com/prompt_engineering/concepts', 'title': 'Concepts | 🦜️🛠️ LangSmith', 'description': 'Prompt engineering is one the core pillars of LangSmith.', 'language': 'en'}, page_content='Testing multiple prompts\\u200b\\nYou can add more prompts to your playground to easily compare outputs and decide which version is better:\\n\\nTesting over a dataset\\u200b\\nTo test over a dataset, you simply select the dataset from the top right and press Start. You can modify whether the results\\nare streamed back as well as how many repitions there are in the test.\\n\\nYou can click on the \"View Experiment\" button to dive deeper into the results of the test.Was this page helpful?You can leave detailed feedback on GitHub.PreviousHow to use multiple messages in the playgroundNextDeployment (LangGraph Platform)Why prompt engineering?Prompts vs Prompt TemplatesPrompts in LangSmithChat vs CompletionF-string vs mustacheToolsStructured OutputModelPrompt VersioningCommitsTagsPrompt PlaygroundTesting multiple promptsTesting over a datasetCommunityTwitterGitHubDocs CodeLangSmith SDKPythonJS/TSMoreHomepageBlogLangChain Python DocsLangChain JS/TS DocsCopyright © 2025 LangChain, Inc.')]"
      ]
     },
     "execution_count": 14,
     "metadata": {},
     "output_type": "execute_result"
    }
   ],
   "source": [
    "## Primeiro fizemos o carregamento dos dados (neste caso uma página web)\n",
    "## Agora faremos aqui a divisão do texto em chunks\n",
    "## Depois faremos o Embedding, que transforma os textos divididos em vetores (Vector Embedding)\n",
    "## A sequência é: Load => Split (text into chunks) => Embed => Store (Vector Store DB)\n",
    "\n",
    "from langchain_text_splitters import RecursiveCharacterTextSplitter\n",
    "\n",
    "text_splitter = RecursiveCharacterTextSplitter(chunk_size = 1000, chunk_overlap = 200)\n",
    "documents = text_splitter.split_documents(docs)\n",
    "documents\n"
   ]
  },
  {
   "cell_type": "markdown",
   "id": "68e9061e",
   "metadata": {},
   "source": [
    "#### Embed - Usamos a técnica de Embeddings (OpenAIEmbeddings)"
   ]
  },
  {
   "cell_type": "code",
   "execution_count": 15,
   "id": "e092ea84",
   "metadata": {},
   "outputs": [],
   "source": [
    "from langchain_openai import OpenAIEmbeddings\n",
    "embeddings = OpenAIEmbeddings()\n"
   ]
  },
  {
   "cell_type": "markdown",
   "id": "92a1565f",
   "metadata": {},
   "source": [
    "#### Store - Vector Data Base (Vector DB)"
   ]
  },
  {
   "cell_type": "code",
   "execution_count": 16,
   "id": "30c97fbb",
   "metadata": {},
   "outputs": [],
   "source": [
    "from langchain_community.vectorstores import FAISS\n",
    "vectorstoredb = FAISS.from_documents(documents, embeddings)"
   ]
  },
  {
   "cell_type": "code",
   "execution_count": 17,
   "id": "175f09d1",
   "metadata": {},
   "outputs": [
    {
     "data": {
      "text/plain": [
       "<langchain_community.vectorstores.faiss.FAISS at 0x73fd9fe24ca0>"
      ]
     },
     "execution_count": 17,
     "metadata": {},
     "output_type": "execute_result"
    }
   ],
   "source": [
    "vectorstoredb"
   ]
  },
  {
   "cell_type": "markdown",
   "id": "7e3ffc49",
   "metadata": {},
   "source": [
    "### Query From a vector DB"
   ]
  },
  {
   "cell_type": "code",
   "execution_count": 21,
   "id": "cf12cb20",
   "metadata": {},
   "outputs": [
    {
     "data": {
      "text/plain": [
       "'Prompt engineering is one the core pillars of LangSmith.\\nWhile traditional software application are built by writing code, AI applications often involve a good amount of writing prompts.\\nWe aim to make this as easy possible by providing a set of tools designed to enable and facilitate prompt engineering.\\nWhy prompt engineering?\\u200b\\nA prompt sets the stage for the model, like an audience member at an improv show directing the actor\\'s next performance - it guides the model\\'s\\nbehavior without changing its underlying capabilities. Just as telling an actor to \"be a pirate\" determines how they act,\\na prompt provides instructions, examples, and context that shape how the model responds.\\nPrompt engineering is important because it allows you to change the way the model behaves.\\nWhile there are other ways to change the model\\'s behavior (like fine-tuning), prompt engineering is usually the simplest to get started with\\nand often provides the highest ROI.'"
      ]
     },
     "execution_count": 21,
     "metadata": {},
     "output_type": "execute_result"
    }
   ],
   "source": [
    "query = \"A prompt sets the stage for the model, like an audience member at an improv show directing the actor's next performance\"\n",
    "result = vectorstoredb.similarity_search(query)\n",
    "result[0].page_content"
   ]
  },
  {
   "cell_type": "markdown",
   "id": "a879470a",
   "metadata": {},
   "source": [
    "### Retrieval Chain, Document Chain"
   ]
  },
  {
   "cell_type": "code",
   "execution_count": null,
   "id": "838f8e57",
   "metadata": {},
   "outputs": [],
   "source": [
    "from langchain_openai import ChatOpenAI\n",
    "llm = ChatOpenAI(model = 'gpt-4o')"
   ]
  },
  {
   "cell_type": "code",
   "execution_count": 23,
   "id": "5ec008bd",
   "metadata": {},
   "outputs": [
    {
     "data": {
      "text/plain": [
       "RunnableBinding(bound=RunnableBinding(bound=RunnableAssign(mapper={\n",
       "  context: RunnableLambda(format_docs)\n",
       "}), kwargs={}, config={'run_name': 'format_inputs'}, config_factories=[])\n",
       "| ChatPromptTemplate(input_variables=['context'], input_types={}, partial_variables={}, messages=[HumanMessagePromptTemplate(prompt=PromptTemplate(input_variables=['context'], input_types={}, partial_variables={}, template='\\n    Answer the following question based only on the provided context:\\n    <context>\\n    {context}\\n    </context>\\n    '), additional_kwargs={})])\n",
       "| ChatOpenAI(client=<openai.resources.chat.completions.completions.Completions object at 0x73fd9ad8e0e0>, async_client=<openai.resources.chat.completions.completions.AsyncCompletions object at 0x73fd9ad8d3f0>, root_client=<openai.OpenAI object at 0x73fda02b4400>, root_async_client=<openai.AsyncOpenAI object at 0x73fd9ad8d420>, model_name='gpt-4o', model_kwargs={}, openai_api_key=SecretStr('**********'))\n",
       "| StrOutputParser(), kwargs={}, config={'run_name': 'stuff_documents_chain'}, config_factories=[])"
      ]
     },
     "execution_count": 23,
     "metadata": {},
     "output_type": "execute_result"
    }
   ],
   "source": [
    "## Create a Chain for passing a list of Documents to a model\n",
    "from langchain.chains.combine_documents import create_stuff_documents_chain\n",
    "from langchain_core.prompts import ChatPromptTemplate\n",
    "\n",
    "prompt = ChatPromptTemplate.from_template(\n",
    "    \"\"\"\n",
    "    Answer the following question based only on the provided context:\n",
    "    <context>\n",
    "    {context}\n",
    "    </context>\n",
    "    \"\"\"\n",
    ")\n",
    "\n",
    "document_chain = create_stuff_documents_chain(llm, prompt)\n",
    "document_chain"
   ]
  },
  {
   "cell_type": "code",
   "execution_count": 24,
   "id": "a612a80a",
   "metadata": {},
   "outputs": [
    {
     "data": {
      "text/plain": [
       "\"A prompt influences the model's behavior by guiding its responses, similar to how an audience member at an improv show suggests the direction for the actor's next performance, but it does not alter the model's fundamental capabilities.\""
      ]
     },
     "execution_count": 24,
     "metadata": {},
     "output_type": "execute_result"
    }
   ],
   "source": [
    "from langchain_core.documents import Document\n",
    "\n",
    "document_chain.invoke({\n",
    "    \"input\": \"A prompt sets the stage for the model, like an audience member at an improv show directing the actor's next performance\",\n",
    "    \"context\": [Document(page_content=\"A prompt sets the stage for the model, like an audience member at an improv show directing the actor's next performance - it guides the model's behavior without changing its underlying capabilities\")]\n",
    "})"
   ]
  },
  {
   "cell_type": "markdown",
   "id": "78f872b6",
   "metadata": {},
   "source": [
    "However, we want the documents to first come from the retriever we just set up. That way, we can use the retriever to dynamically select the most relevant documents and pass those in for a given question."
   ]
  },
  {
   "cell_type": "code",
   "execution_count": 25,
   "id": "cd769c12",
   "metadata": {},
   "outputs": [],
   "source": [
    "## Return VectorStoreRetriever initialized from this VectorStore\n",
    "retriever = vectorstoredb.as_retriever()"
   ]
  },
  {
   "cell_type": "code",
   "execution_count": 26,
   "id": "5b9229ab",
   "metadata": {},
   "outputs": [],
   "source": [
    "from langchain.chains import create_retrieval_chain\n",
    "retrieval_chain = create_retrieval_chain(retriever, document_chain)"
   ]
  },
  {
   "cell_type": "code",
   "execution_count": 27,
   "id": "f4e8def5",
   "metadata": {},
   "outputs": [
    {
     "data": {
      "text/plain": [
       "RunnableBinding(bound=RunnableAssign(mapper={\n",
       "  context: RunnableBinding(bound=RunnableLambda(lambda x: x['input'])\n",
       "           | VectorStoreRetriever(tags=['FAISS', 'OpenAIEmbeddings'], vectorstore=<langchain_community.vectorstores.faiss.FAISS object at 0x73fd9fe24ca0>, search_kwargs={}), kwargs={}, config={'run_name': 'retrieve_documents'}, config_factories=[])\n",
       "})\n",
       "| RunnableAssign(mapper={\n",
       "    answer: RunnableBinding(bound=RunnableBinding(bound=RunnableAssign(mapper={\n",
       "              context: RunnableLambda(format_docs)\n",
       "            }), kwargs={}, config={'run_name': 'format_inputs'}, config_factories=[])\n",
       "            | ChatPromptTemplate(input_variables=['context'], input_types={}, partial_variables={}, messages=[HumanMessagePromptTemplate(prompt=PromptTemplate(input_variables=['context'], input_types={}, partial_variables={}, template='\\n    Answer the following question based only on the provided context:\\n    <context>\\n    {context}\\n    </context>\\n    '), additional_kwargs={})])\n",
       "            | ChatOpenAI(client=<openai.resources.chat.completions.completions.Completions object at 0x73fd9ad8e0e0>, async_client=<openai.resources.chat.completions.completions.AsyncCompletions object at 0x73fd9ad8d3f0>, root_client=<openai.OpenAI object at 0x73fda02b4400>, root_async_client=<openai.AsyncOpenAI object at 0x73fd9ad8d420>, model_name='gpt-4o', model_kwargs={}, openai_api_key=SecretStr('**********'))\n",
       "            | StrOutputParser(), kwargs={}, config={'run_name': 'stuff_documents_chain'}, config_factories=[])\n",
       "  }), kwargs={}, config={'run_name': 'retrieval_chain'}, config_factories=[])"
      ]
     },
     "execution_count": 27,
     "metadata": {},
     "output_type": "execute_result"
    }
   ],
   "source": [
    "retrieval_chain"
   ]
  },
  {
   "cell_type": "code",
   "execution_count": 28,
   "id": "93bac4e1",
   "metadata": {},
   "outputs": [
    {
     "data": {
      "text/plain": [
       "\"What is the importance of prompt engineering in AI applications according to the provided context?\\n\\nPrompt engineering is crucial because it allows for altering the behavior of the model without changing its underlying capabilities. It's compared to giving directions to an actor, where the prompt sets the stage for the model and guides its responses through instructions, examples, and context. While there are other methods like fine-tuning that can change a model's behavior, prompt engineering is often the simplest to start with and can provide the highest return on investment (ROI).\""
      ]
     },
     "execution_count": 28,
     "metadata": {},
     "output_type": "execute_result"
    }
   ],
   "source": [
    "## Get the response from the LLM\n",
    "response = retrieval_chain.invoke({\"input\": \"A prompt sets the stage for the model, like an audience member at an improv show directing the actor's next performance\"})\n",
    "response['answer']"
   ]
  },
  {
   "cell_type": "code",
   "execution_count": 29,
   "id": "c865edb4",
   "metadata": {},
   "outputs": [
    {
     "data": {
      "text/plain": [
       "{'input': \"A prompt sets the stage for the model, like an audience member at an improv show directing the actor's next performance\",\n",
       " 'context': [Document(id='b80d37eb-837d-4034-8add-4242bbf6b7bf', metadata={'source': 'https://docs.smith.langchain.com/prompt_engineering/concepts', 'title': 'Concepts | 🦜️🛠️ LangSmith', 'description': 'Prompt engineering is one the core pillars of LangSmith.', 'language': 'en'}, page_content='Prompt engineering is one the core pillars of LangSmith.\\nWhile traditional software application are built by writing code, AI applications often involve a good amount of writing prompts.\\nWe aim to make this as easy possible by providing a set of tools designed to enable and facilitate prompt engineering.\\nWhy prompt engineering?\\u200b\\nA prompt sets the stage for the model, like an audience member at an improv show directing the actor\\'s next performance - it guides the model\\'s\\nbehavior without changing its underlying capabilities. Just as telling an actor to \"be a pirate\" determines how they act,\\na prompt provides instructions, examples, and context that shape how the model responds.\\nPrompt engineering is important because it allows you to change the way the model behaves.\\nWhile there are other ways to change the model\\'s behavior (like fine-tuning), prompt engineering is usually the simplest to get started with\\nand often provides the highest ROI.'),\n",
       "  Document(id='774c634f-e21c-4cc6-ba57-274e90aa1c74', metadata={'source': 'https://docs.smith.langchain.com/prompt_engineering/concepts', 'title': 'Concepts | 🦜️🛠️ LangSmith', 'description': 'Prompt engineering is one the core pillars of LangSmith.', 'language': 'en'}, page_content='Tags\\u200b\\nYou may want to tag prompt commits with a human-readable tag so that you can refer to it even as new commits are added. Common use cases include tagging a prompt with dev or prod tags. This allows you to track which versions of prompts are used where.\\nPrompt Playground\\u200b\\nThe prompt playground makes the process of iterating and testing your prompts seamless. You can enter the playground from the sidebar or directly from a saved prompt.\\nIn the playground you can:\\n\\nChange the model being used\\nChange prompt template being used\\nChange the output schema\\nChange the tools available\\nEnter the input variables to run through the prompt template\\nRun the prompt through the model\\nObserve the outputs\\n\\nTesting multiple prompts\\u200b\\nYou can add more prompts to your playground to easily compare outputs and decide which version is better:'),\n",
       "  Document(id='f0a87767-4a8d-479e-85b4-684fbcac3be7', metadata={'source': 'https://docs.smith.langchain.com/prompt_engineering/concepts', 'title': 'Concepts | 🦜️🛠️ LangSmith', 'description': 'Prompt engineering is one the core pillars of LangSmith.', 'language': 'en'}, page_content='While there are other ways to change the model\\'s behavior (like fine-tuning), prompt engineering is usually the simplest to get started with\\nand often provides the highest ROI.\\nWe often see that prompt engineering is multi-disciplinary.\\nSometimes the best prompt engineer is not the software engineer who is building the application, but rather the product manager\\nor another domain expert.\\nIt is important to have the proper tooling and infrastructure to support this cross-disciplinary building.\\nPrompts vs Prompt Templates\\u200b\\nAlthough we often use these terms interchangably, it is important to understand the difference between \"prompts\" and \"prompt templates\".\\nPrompts refer to the messages that are passed into the language model.\\nPrompt Templates refer to a way of formatting information to get that prompt to hold the information that you want. Prompt templates\\ncan include variables for few shot examples, outside context, or any other external data that is needed in your prompt.'),\n",
       "  Document(id='2a647da5-f448-4a91-a727-c599160f1967', metadata={'source': 'https://docs.smith.langchain.com/prompt_engineering/concepts', 'title': 'Concepts | 🦜️🛠️ LangSmith', 'description': 'Prompt engineering is one the core pillars of LangSmith.', 'language': 'en'}, page_content='Model\\u200b\\nOptionally, you can store a model configuration alongside a prompt template. This includes the name of the model and any other parameters (temperature, etc).\\nPrompt Versioning\\u200b\\nVerisioning is a key part of iterating and collaborating on your different prompts.\\nCommits\\u200b\\nEvery saved update to a prompt creates a new commit. You can view previous commits, making it easy to review earlier prompt versions or revert to a previous state if needed. In the SDK, you can access a specific commit of a prompt by specifying the commit hash along with the prompt name (e.g. prompt_name:commit_hash).\\nIn the UI, you can compare a commit with its previous version by toggling the \"diff\" button in the top-right corner of the Commits tab.')],\n",
       " 'answer': \"What is the importance of prompt engineering in AI applications according to the provided context?\\n\\nPrompt engineering is crucial because it allows for altering the behavior of the model without changing its underlying capabilities. It's compared to giving directions to an actor, where the prompt sets the stage for the model and guides its responses through instructions, examples, and context. While there are other methods like fine-tuning that can change a model's behavior, prompt engineering is often the simplest to start with and can provide the highest return on investment (ROI).\"}"
      ]
     },
     "execution_count": 29,
     "metadata": {},
     "output_type": "execute_result"
    }
   ],
   "source": [
    "response"
   ]
  },
  {
   "cell_type": "code",
   "execution_count": 30,
   "id": "bc458956",
   "metadata": {},
   "outputs": [
    {
     "data": {
      "text/plain": [
       "[Document(id='b80d37eb-837d-4034-8add-4242bbf6b7bf', metadata={'source': 'https://docs.smith.langchain.com/prompt_engineering/concepts', 'title': 'Concepts | 🦜️🛠️ LangSmith', 'description': 'Prompt engineering is one the core pillars of LangSmith.', 'language': 'en'}, page_content='Prompt engineering is one the core pillars of LangSmith.\\nWhile traditional software application are built by writing code, AI applications often involve a good amount of writing prompts.\\nWe aim to make this as easy possible by providing a set of tools designed to enable and facilitate prompt engineering.\\nWhy prompt engineering?\\u200b\\nA prompt sets the stage for the model, like an audience member at an improv show directing the actor\\'s next performance - it guides the model\\'s\\nbehavior without changing its underlying capabilities. Just as telling an actor to \"be a pirate\" determines how they act,\\na prompt provides instructions, examples, and context that shape how the model responds.\\nPrompt engineering is important because it allows you to change the way the model behaves.\\nWhile there are other ways to change the model\\'s behavior (like fine-tuning), prompt engineering is usually the simplest to get started with\\nand often provides the highest ROI.'),\n",
       " Document(id='774c634f-e21c-4cc6-ba57-274e90aa1c74', metadata={'source': 'https://docs.smith.langchain.com/prompt_engineering/concepts', 'title': 'Concepts | 🦜️🛠️ LangSmith', 'description': 'Prompt engineering is one the core pillars of LangSmith.', 'language': 'en'}, page_content='Tags\\u200b\\nYou may want to tag prompt commits with a human-readable tag so that you can refer to it even as new commits are added. Common use cases include tagging a prompt with dev or prod tags. This allows you to track which versions of prompts are used where.\\nPrompt Playground\\u200b\\nThe prompt playground makes the process of iterating and testing your prompts seamless. You can enter the playground from the sidebar or directly from a saved prompt.\\nIn the playground you can:\\n\\nChange the model being used\\nChange prompt template being used\\nChange the output schema\\nChange the tools available\\nEnter the input variables to run through the prompt template\\nRun the prompt through the model\\nObserve the outputs\\n\\nTesting multiple prompts\\u200b\\nYou can add more prompts to your playground to easily compare outputs and decide which version is better:'),\n",
       " Document(id='f0a87767-4a8d-479e-85b4-684fbcac3be7', metadata={'source': 'https://docs.smith.langchain.com/prompt_engineering/concepts', 'title': 'Concepts | 🦜️🛠️ LangSmith', 'description': 'Prompt engineering is one the core pillars of LangSmith.', 'language': 'en'}, page_content='While there are other ways to change the model\\'s behavior (like fine-tuning), prompt engineering is usually the simplest to get started with\\nand often provides the highest ROI.\\nWe often see that prompt engineering is multi-disciplinary.\\nSometimes the best prompt engineer is not the software engineer who is building the application, but rather the product manager\\nor another domain expert.\\nIt is important to have the proper tooling and infrastructure to support this cross-disciplinary building.\\nPrompts vs Prompt Templates\\u200b\\nAlthough we often use these terms interchangably, it is important to understand the difference between \"prompts\" and \"prompt templates\".\\nPrompts refer to the messages that are passed into the language model.\\nPrompt Templates refer to a way of formatting information to get that prompt to hold the information that you want. Prompt templates\\ncan include variables for few shot examples, outside context, or any other external data that is needed in your prompt.'),\n",
       " Document(id='2a647da5-f448-4a91-a727-c599160f1967', metadata={'source': 'https://docs.smith.langchain.com/prompt_engineering/concepts', 'title': 'Concepts | 🦜️🛠️ LangSmith', 'description': 'Prompt engineering is one the core pillars of LangSmith.', 'language': 'en'}, page_content='Model\\u200b\\nOptionally, you can store a model configuration alongside a prompt template. This includes the name of the model and any other parameters (temperature, etc).\\nPrompt Versioning\\u200b\\nVerisioning is a key part of iterating and collaborating on your different prompts.\\nCommits\\u200b\\nEvery saved update to a prompt creates a new commit. You can view previous commits, making it easy to review earlier prompt versions or revert to a previous state if needed. In the SDK, you can access a specific commit of a prompt by specifying the commit hash along with the prompt name (e.g. prompt_name:commit_hash).\\nIn the UI, you can compare a commit with its previous version by toggling the \"diff\" button in the top-right corner of the Commits tab.')]"
      ]
     },
     "execution_count": 30,
     "metadata": {},
     "output_type": "execute_result"
    }
   ],
   "source": [
    "response['context']"
   ]
  }
 ],
 "metadata": {
  "kernelspec": {
   "display_name": "Python 3",
   "language": "python",
   "name": "python3"
  },
  "language_info": {
   "codemirror_mode": {
    "name": "ipython",
    "version": 3
   },
   "file_extension": ".py",
   "mimetype": "text/x-python",
   "name": "python",
   "nbconvert_exporter": "python",
   "pygments_lexer": "ipython3",
   "version": "3.10.0"
  }
 },
 "nbformat": 4,
 "nbformat_minor": 5
}
