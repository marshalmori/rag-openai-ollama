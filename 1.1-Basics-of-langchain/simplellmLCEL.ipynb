{
 "cells": [
  {
   "cell_type": "markdown",
   "id": "5b179836",
   "metadata": {},
   "source": [
    "## Simple LLM LCEL"
   ]
  },
  {
   "cell_type": "markdown",
   "id": "c41ac675",
   "metadata": {},
   "source": [
    "Groq é uma empresa que desenvolve hardware especializado para acelerar aplicações de inteligência artificial (IA), especialmente aquelas que exigem baixa latência e alta velocidade, como modelos de linguagem e visão computacional. Seu principal produto é o GroqChip, um processador projetado para executar inferência de IA de forma extremamente rápida e eficiente.\n",
    "\n",
    "A principal vantagem da Groq está na velocidade de processamento determinística, ou seja, ela entrega resultados previsíveis e muito rápidos, ideal para aplicações em tempo real, como tradução simultânea, direção autônoma e serviços de IA conversacional. Além disso, o chip é altamente otimizado para modelos de IA já treinados, o que reduz o custo energético e melhora a eficiência.\n",
    "\n",
    "Outra vantagem é sua simplicidade de programação, com uma arquitetura linear que facilita o desenvolvimento e a integração com sistemas existentes. A Groq também permite o uso de ferramentas populares como TensorFlow e PyTorch, tornando a migração mais simples para empresas que já usam essas plataformas.\n",
    "\n",
    "Como desvantagem, a Groq ainda é uma tecnologia relativamente nova no mercado, com menor adoção em comparação com gigantes como NVIDIA. Isso pode significar menos suporte da comunidade e menor compatibilidade com algumas soluções específicas. Além disso, seu foco está na inferência, não no treinamento de modelos, o que limita seu uso em ambientes de desenvolvimento de IA mais completos."
   ]
  },
  {
   "cell_type": "markdown",
   "id": "92960e46",
   "metadata": {},
   "source": [
    "#### Significado do termo Inferência"
   ]
  },
  {
   "cell_type": "markdown",
   "id": "29140b67",
   "metadata": {},
   "source": [
    "Em inteligência artificial, inferência é o processo em que um modelo treinado é usado para fazer previsões ou tomar decisões com base em novos dados. Ou seja, depois que o modelo \"aprende\" durante a fase de treinamento, ele entra na fase de inferência, onde aplica esse conhecimento em situações reais.\n",
    "\n",
    "Na prática, imagine um modelo treinado para identificar gatos em imagens. Durante a inferência, você envia uma nova imagem (que o modelo nunca viu antes), e ele analisa essa imagem e responde: “Sim, isso é um gato” ou “Não, não é um gato”. O modelo não aprende mais nessa fase, apenas usa o que já aprendeu.\n",
    "\n",
    "Esse processo precisa ser rápido e eficiente, especialmente em aplicativos como carros autônomos, assistentes virtuais ou traduções em tempo real, onde cada milissegundo conta. É por isso que empresas como a Groq desenvolvem hardware otimizado: para acelerar justamente essa etapa de inferência.\n",
    "\n",
    "Resumindo: treinamento é onde o modelo aprende; inferência é onde ele mostra o que aprendeu ao fazer previsões em tempo real."
   ]
  },
  {
   "cell_type": "code",
   "execution_count": 4,
   "id": "1386d778",
   "metadata": {},
   "outputs": [
    {
     "data": {
      "text/plain": [
       "True"
      ]
     },
     "execution_count": 4,
     "metadata": {},
     "output_type": "execute_result"
    }
   ],
   "source": [
    "## Open AI API Key and Open Source models - Llama3, Gemma2, Mistral -- Groq\n",
    "\n",
    "import os\n",
    "from dotenv import load_dotenv\n",
    "load_dotenv()"
   ]
  },
  {
   "cell_type": "code",
   "execution_count": 10,
   "id": "8f218361",
   "metadata": {},
   "outputs": [],
   "source": [
    "import openai\n",
    "openai.api_key = os.getenv('OPENAI_API_KEY')"
   ]
  },
  {
   "cell_type": "code",
   "execution_count": 11,
   "id": "027f39c5",
   "metadata": {},
   "outputs": [],
   "source": [
    "groq_api_key = os.getenv('GROQ_API_KEY')"
   ]
  },
  {
   "cell_type": "code",
   "execution_count": null,
   "id": "614a5df9",
   "metadata": {},
   "outputs": [],
   "source": [
    "from langchain_openai import ChatOpenAI\n",
    "from langchain_groq import ChatGroq"
   ]
  },
  {
   "cell_type": "code",
   "execution_count": 14,
   "id": "f4b6fd23",
   "metadata": {},
   "outputs": [
    {
     "data": {
      "text/plain": [
       "ChatGroq(client=<groq.resources.chat.completions.Completions object at 0x7641b6b7ace0>, async_client=<groq.resources.chat.completions.AsyncCompletions object at 0x7641b6ba9180>, model_name='Gemma2-9b-it', model_kwargs={}, groq_api_key=SecretStr('**********'))"
      ]
     },
     "execution_count": 14,
     "metadata": {},
     "output_type": "execute_result"
    }
   ],
   "source": [
    "model = ChatGroq(model='Gemma2-9b-it', groq_api_key = groq_api_key)\n",
    "model"
   ]
  }
 ],
 "metadata": {
  "kernelspec": {
   "display_name": "Python 3",
   "language": "python",
   "name": "python3"
  },
  "language_info": {
   "codemirror_mode": {
    "name": "ipython",
    "version": 3
   },
   "file_extension": ".py",
   "mimetype": "text/x-python",
   "name": "python",
   "nbconvert_exporter": "python",
   "pygments_lexer": "ipython3",
   "version": "3.10.0"
  }
 },
 "nbformat": 4,
 "nbformat_minor": 5
}
